{
 "cells": [
  {
   "cell_type": "markdown",
   "id": "094e1149",
   "metadata": {},
   "source": [
    "## Problem 1 \n",
    "# You are given an array A consisting of positive integers. Your task is to find and return all the leaders in the array. An #element of the array is considered a leader if it is greater than or  equal to all the elements to its right side. The # # #rightmost element is always a leader"
   ]
  },
  {
   "cell_type": "code",
   "execution_count": 5,
   "id": "e6559645",
   "metadata": {},
   "outputs": [
    {
     "name": "stdout",
     "output_type": "stream",
     "text": [
      "Output: [17, 5, 2]\n",
      "• The first leader is 2, as it is greater than all the elements to its right.\n",
      "• The next leader is 5, as it is greater than the elements to its right (2).\n",
      "• The next leader is 17, as it is greater than the elements to its right (4).\n",
      "• The rightmost element, 2, is always a leader.\n"
     ]
    }
   ],
   "source": [
    "def find_leaders(n, arr):\n",
    "    leaders = []\n",
    "    max_right = arr[n - 1]  # Initialize the rightmost element as the current leader\n",
    "    explanation = []\n",
    "\n",
    "    # Add the rightmost element as the first leader\n",
    "    leaders.append(max_right)\n",
    "    explanation.append(f\"The first leader is {max_right}, as it is greater than all the elements to its right.\")\n",
    "\n",
    "    # Traverse the array from right to left\n",
    "    for i in range(n - 2, -1, -1):\n",
    "        if arr[i] >= max_right:\n",
    "            max_right = arr[i]\n",
    "            leaders.append(max_right)\n",
    "            explanation.append(f\"The next leader is {max_right}, as it is greater than the elements to its right ({arr[i+1]}).\")\n",
    "\n",
    "    # Reverse the leaders list to maintain the original order\n",
    "    leaders.reverse()\n",
    "\n",
    "    return leaders, explanation\n",
    "\n",
    "# Input\n",
    "n = 6\n",
    "arr = [16, 17, 4, 3, 5, 2]\n",
    "\n",
    "# Find the leaders in the array and get the explanation\n",
    "result, explanation = find_leaders(n, arr)\n",
    "\n",
    "# Print the result and explanation\n",
    "print(\"Output:\", result)\n",
    "for exp in explanation:\n",
    "    print(\"•\", exp)\n",
    "\n",
    "# The rightmost element is always a leader\n",
    "print(f\"• The rightmost element, {arr[-1]}, is always a leader.\")\n"
   ]
  },
  {
   "cell_type": "markdown",
   "id": "ee3900f9",
   "metadata": {},
   "source": [
    "## Problem 2 \n",
    "#Given a string S, your task is to reverse each word in it where the words are separated by dots.\n"
   ]
  },
  {
   "cell_type": "code",
   "execution_count": 7,
   "id": "5726d909",
   "metadata": {},
   "outputs": [
    {
     "name": "stdout",
     "output_type": "stream",
     "text": [
      "i.ekil.siht.margorp.yrev.hcum\n"
     ]
    }
   ],
   "source": [
    "def reverse_words_in_string(s):\n",
    "    # Split the input string into words using the dot as a delimiter\n",
    "    words = s.split(\".\")\n",
    "\n",
    "    # Reverse each word in the list\n",
    "    reversed_words = [word[::-1] for word in words]\n",
    "\n",
    "    # Join the reversed words with dots to form the final string\n",
    "    result = \".\".join(reversed_words)\n",
    "\n",
    "    return result\n",
    "\n",
    "# Input string\n",
    "s = \"i.like.this.program.very.much\"\n",
    "\n",
    "# Call the function to reverse the words\n",
    "result = reverse_words_in_string(s)\n",
    "\n",
    "# Print the result\n",
    "print(result)\n"
   ]
  },
  {
   "cell_type": "code",
   "execution_count": 8,
   "id": "b55edd69",
   "metadata": {},
   "outputs": [
    {
     "name": "stdout",
     "output_type": "stream",
     "text": [
      "rqp.onm\n"
     ]
    }
   ],
   "source": [
    "def reverse_words_in_string(s):\n",
    "    # Split the input string into words using the dot as a delimiter\n",
    "    words = s.split(\".\")\n",
    "\n",
    "    # Reverse each word in the list\n",
    "    reversed_words = [word[::-1] for word in words]\n",
    "\n",
    "    # Join the reversed words with dots to form the final string\n",
    "    result = \".\".join(reversed_words)\n",
    "\n",
    "    return result\n",
    "\n",
    "# Input string\n",
    "s = \"pqr.mno\"\n",
    "\n",
    "# Call the function to reverse the words\n",
    "result = reverse_words_in_string(s)\n",
    "\n",
    "# Print the result\n",
    "print(result)\n"
   ]
  },
  {
   "cell_type": "markdown",
   "id": "bebba475",
   "metadata": {},
   "source": [
    "## Problem 3 "
   ]
  },
  {
   "cell_type": "markdown",
   "id": "888b8325",
   "metadata": {},
   "source": [
    "#You are given a dictionary containing information about people, including their names,\n",
    "#ages, and cities. Your task is to perform the following operations using Pandas:\n"
   ]
  },
  {
   "cell_type": "code",
   "execution_count": 9,
   "id": "3ed2e2e8",
   "metadata": {},
   "outputs": [
    {
     "name": "stdout",
     "output_type": "stream",
     "text": [
      "DataFrame:\n",
      "      Name  Age         City\n",
      "0    Alice   25     New York\n",
      "1      Bob   30  Los Angeles\n",
      "2  Charlie   35      Chicago\n",
      "3    David   40      Houston\n",
      "\n",
      "Selected 'Name' and 'Age' columns:\n",
      "      Name  Age\n",
      "0    Alice   25\n",
      "1      Bob   30\n",
      "2  Charlie   35\n",
      "3    David   40\n",
      "\n",
      "Mean Age: 32.5\n",
      "Median Age: 32.5\n"
     ]
    }
   ],
   "source": [
    "import pandas as pd\n",
    "\n",
    "# Create a DataFrame from the given dictionary\n",
    "data = {\n",
    "    'Name': ['Alice', 'Bob', 'Charlie', 'David'],\n",
    "    'Age': [25, 30, 35, 40],\n",
    "    'City': ['New York', 'Los Angeles', 'Chicago', 'Houston']\n",
    "}\n",
    "\n",
    "df = pd.DataFrame(data)\n",
    "\n",
    "# Select the 'Name' and 'Age' columns\n",
    "selected_data = df[['Name', 'Age']]\n",
    "\n",
    "# Calculate the mean and median age\n",
    "mean_age = df['Age'].mean()\n",
    "median_age = df['Age'].median()\n",
    "\n",
    "# Print the DataFrame and calculated statistics\n",
    "print(\"DataFrame:\")\n",
    "print(df)\n",
    "print(\"\\nSelected 'Name' and 'Age' columns:\")\n",
    "print(selected_data)\n",
    "print(f\"\\nMean Age: {mean_age}\")\n",
    "print(f\"Median Age: {median_age}\")\n"
   ]
  },
  {
   "cell_type": "markdown",
   "id": "0128938a",
   "metadata": {},
   "source": [
    "## Problem 4"
   ]
  },
  {
   "cell_type": "markdown",
   "id": "09b43753",
   "metadata": {},
   "source": [
    "#You are given an array of integers. Your task is to write a Python function\n",
    "#find_second_largest(arr) that finds and returns the second-largest number in the array.\n"
   ]
  },
  {
   "cell_type": "code",
   "execution_count": 10,
   "id": "57a92f8b",
   "metadata": {},
   "outputs": [
    {
     "name": "stdout",
     "output_type": "stream",
     "text": [
      "18\n"
     ]
    }
   ],
   "source": [
    "def find_second_largest(arr):\n",
    "    # Sort the array in descending order\n",
    "    sorted_arr = sorted(arr, reverse=True)\n",
    "    \n",
    "    # The second largest number is at index 1 in the sorted array\n",
    "    second_largest = sorted_arr[1]\n",
    "    \n",
    "    return second_largest\n",
    "\n",
    "# Input array\n",
    "arr = [10, 5, 9, 22, 18]\n",
    "\n",
    "# Call the function to find the second-largest number\n",
    "result = find_second_largest(arr)\n",
    "\n",
    "# Print the result\n",
    "print(result)\n"
   ]
  },
  {
   "cell_type": "code",
   "execution_count": 12,
   "id": "ca9972c7",
   "metadata": {},
   "outputs": [
    {
     "name": "stdout",
     "output_type": "stream",
     "text": [
      "15\n"
     ]
    }
   ],
   "source": [
    "def find_second_largest(arr):\n",
    "    # Ensure that there are at least two unique elements in the array\n",
    "    unique_elements = list(set(arr))\n",
    "    if len(unique_elements) < 2:\n",
    "        # All elements are the same, return one of them\n",
    "        return unique_elements[0]\n",
    "\n",
    "    # Sort the unique elements in descending order\n",
    "    unique_elements.sort(reverse=True)\n",
    "\n",
    "    # The second-largest number is the second element in the sorted list\n",
    "    second_largest = unique_elements[1]\n",
    "\n",
    "    return second_largest\n",
    "\n",
    "# Input array\n",
    "arr = [15, 15, 15, 15]\n",
    "\n",
    "# Call the function to find the second-largest number\n",
    "result = find_second_largest(arr)\n",
    "\n",
    "# Print the result\n",
    "print(result)\n"
   ]
  },
  {
   "cell_type": "markdown",
   "id": "584f2c9a",
   "metadata": {},
   "source": [
    "## Problem 5"
   ]
  },
  {
   "cell_type": "markdown",
   "id": "5beca3a5",
   "metadata": {},
   "source": [
    "#Write a Python program that accepts a sentence and calculates the number of uppercase\n",
    "#letters and lowercase letters.\n"
   ]
  },
  {
   "cell_type": "code",
   "execution_count": 13,
   "id": "b60ee775",
   "metadata": {},
   "outputs": [
    {
     "name": "stdout",
     "output_type": "stream",
     "text": [
      "Enter a sentence: hello world!\n",
      "UPPER CASE 0\n",
      "LOWER CASE 10\n"
     ]
    }
   ],
   "source": [
    "def count_upper_lower(sentence):\n",
    "    # Initialize counters for uppercase and lowercase letters\n",
    "    upper_count = 0\n",
    "    lower_count = 0\n",
    "\n",
    "    # Iterate through each character in the sentence\n",
    "    for char in sentence:\n",
    "        # Check if the character is an uppercase letter\n",
    "        if char.isupper():\n",
    "            upper_count += 1\n",
    "        # Check if the character is a lowercase letter\n",
    "        elif char.islower():\n",
    "            lower_count += 1\n",
    "\n",
    "    # Print the counts in the specified format\n",
    "    print(f\"UPPER CASE {upper_count}\")\n",
    "    print(f\"LOWER CASE {lower_count}\")\n",
    "\n",
    "# Input sentence\n",
    "sentence = input(\"Enter a sentence: \")\n",
    "\n",
    "# Call the function to count uppercase and lowercase letters\n",
    "count_upper_lower(sentence)\n"
   ]
  },
  {
   "cell_type": "code",
   "execution_count": null,
   "id": "4364fb5c",
   "metadata": {},
   "outputs": [],
   "source": []
  }
 ],
 "metadata": {
  "kernelspec": {
   "display_name": "Python 3 (ipykernel)",
   "language": "python",
   "name": "python3"
  },
  "language_info": {
   "codemirror_mode": {
    "name": "ipython",
    "version": 3
   },
   "file_extension": ".py",
   "mimetype": "text/x-python",
   "name": "python",
   "nbconvert_exporter": "python",
   "pygments_lexer": "ipython3",
   "version": "3.9.12"
  }
 },
 "nbformat": 4,
 "nbformat_minor": 5
}
